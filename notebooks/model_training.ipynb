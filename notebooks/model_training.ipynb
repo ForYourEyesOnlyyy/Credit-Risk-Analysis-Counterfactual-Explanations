{
 "cells": [
  {
   "cell_type": "markdown",
   "metadata": {},
   "source": [
    "### Model Training & evaluation notebook"
   ]
  },
  {
   "cell_type": "markdown",
   "metadata": {},
   "source": [
    "### Create dataloaders for out datasets"
   ]
  },
  {
   "cell_type": "code",
   "execution_count": 6,
   "metadata": {},
   "outputs": [],
   "source": [
    "import numpy as np\n",
    "import pandas as pd\n",
    "import torch\n",
    "from torch.utils.data import TensorDataset, DataLoader\n",
    "\n",
    "df_train = pd.read_csv('../data/processed/train.csv')\n",
    "df_val = pd.read_csv('../data/processed/validation.csv')"
   ]
  },
  {
   "cell_type": "code",
   "execution_count": 7,
   "metadata": {},
   "outputs": [],
   "source": [
    "batch_size = 512"
   ]
  },
  {
   "cell_type": "code",
   "execution_count": 8,
   "metadata": {},
   "outputs": [],
   "source": [
    "df_train = df_train.drop(columns=['Unnamed: 0'])\n",
    "X_train_tensor = torch.tensor(df_train.drop(columns=['loan_status']).values, dtype=torch.float)\n",
    "y_train_tensor = torch.tensor(df_train['loan_status'].values, dtype=torch.float)\n",
    "\n",
    "train_dataset = TensorDataset(X_train_tensor, y_train_tensor)\n",
    "train_loader = DataLoader(train_dataset, batch_size=batch_size, shuffle=True, persistent_workers=True, num_workers=10)"
   ]
  },
  {
   "cell_type": "code",
   "execution_count": 9,
   "metadata": {},
   "outputs": [],
   "source": [
    "df_val = df_val.drop(columns=['Unnamed: 0'])\n",
    "X_val_tensor = torch.tensor(df_val.drop(columns=['loan_status']).values, dtype=torch.float)\n",
    "y_val_tensor = torch.tensor(df_val['loan_status'].values, dtype=torch.float)\n",
    "\n",
    "val_dataset = TensorDataset(X_val_tensor, y_val_tensor)\n",
    "val_loader = DataLoader(val_dataset, batch_size=batch_size, shuffle=False, persistent_workers=True, num_workers=10)"
   ]
  },
  {
   "cell_type": "code",
   "execution_count": 10,
   "metadata": {},
   "outputs": [],
   "source": [
    "import torch.nn as nn\n",
    "\n",
    "pos_weight = 2.0\n",
    "criterion = nn.BCEWithLogitsLoss(pos_weight=torch.tensor(pos_weight))"
   ]
  },
  {
   "cell_type": "markdown",
   "metadata": {},
   "source": [
    "### Define model architecture with pytorch lightning"
   ]
  },
  {
   "cell_type": "code",
   "execution_count": 11,
   "metadata": {},
   "outputs": [],
   "source": [
    "import torch.nn as nn\n",
    "import torch.nn.functional as F\n",
    "import pytorch_lightning as pl\n",
    "from torch.optim import Adam\n",
    "from sklearn.metrics import recall_score"
   ]
  },
  {
   "cell_type": "code",
   "execution_count": 12,
   "metadata": {},
   "outputs": [],
   "source": [
    "class CreditRiskModel (pl.LightningModule):\n",
    "    def __init__(self, input_dim = 23, hidden = 64, sigmoid_threashold=0.5):\n",
    "        super().__init__()\n",
    "        self.save_hyperparameters()\n",
    "        self.model = nn.Sequential(\n",
    "            nn.Linear(input_dim, hidden),\n",
    "            nn.ReLU(), \n",
    "            nn.Linear(hidden, hidden),\n",
    "            nn.ReLU(),\n",
    "            nn.Linear(hidden, 1)\n",
    "        )\n",
    "        self.threashold = sigmoid_threashold\n",
    "    \n",
    "    def forward(self, x):\n",
    "        logits = self.model(x)\n",
    "        return logits.squeeze(1)\n",
    "    \n",
    "    def training_step(self, batch, batch_idx):\n",
    "        X, y = batch\n",
    "        logits = self.forward(X)\n",
    "        # loss = F.binary_cross_entropy_with_logits(logits, y)\n",
    "        loss = criterion(logits, y)\n",
    "        self.log('train_loss', loss, on_step=True, on_epoch=True, prog_bar=True)\n",
    "        return loss\n",
    "    \n",
    "    def validation_step(self, batch, batch_idx):\n",
    "        X, y = batch\n",
    "        logits = self.forward(X)\n",
    "        # loss = F.binary_cross_entropy_with_logits(logits, y)\n",
    "        loss = criterion(logits, y)\n",
    "\n",
    "        probs = torch.sigmoid(logits)\n",
    "        preds = (probs > self.threashold).float()\n",
    "\n",
    "        acc = (preds == y).float().mean()\n",
    "        preds_np = preds.detach().cpu().numpy()\n",
    "        y_np = y.detach().cpu().numpy()\n",
    "\n",
    "        fnr = 1. - recall_score(y_np, preds_np)\n",
    "\n",
    "        self.log('val_loss', loss, on_epoch=True, prog_bar=True)\n",
    "        self.log('val_acc', acc, on_epoch=True, prog_bar=True)\n",
    "        self.log('val_fnr', fnr, on_epoch=True, prog_bar=True)\n",
    "\n",
    "        return loss\n",
    "    \n",
    "    def configure_optimizers(self):\n",
    "        return Adam(self.parameters(), lr=1e-3)"
   ]
  },
  {
   "cell_type": "code",
   "execution_count": 13,
   "metadata": {},
   "outputs": [
    {
     "name": "stderr",
     "output_type": "stream",
     "text": [
      "GPU available: True (mps), used: True\n",
      "TPU available: False, using: 0 TPU cores\n",
      "HPU available: False, using: 0 HPUs\n",
      "\n",
      "  | Name  | Type       | Params | Mode \n",
      "---------------------------------------------\n",
      "0 | model | Sequential | 5.8 K  | train\n",
      "---------------------------------------------\n",
      "5.8 K     Trainable params\n",
      "0         Non-trainable params\n",
      "5.8 K     Total params\n",
      "0.023     Total estimated model params size (MB)\n",
      "6         Modules in train mode\n",
      "0         Modules in eval mode\n"
     ]
    },
    {
     "name": "stdout",
     "output_type": "stream",
     "text": [
      "                                                                           \r"
     ]
    },
    {
     "name": "stderr",
     "output_type": "stream",
     "text": [
      "/Users/maxmartyshov/Desktop/IU/year3/sem2/XAI/Credit-Risk-Analysis-Counterfactual-Explanations/.venv/lib/python3.10/site-packages/pytorch_lightning/loops/fit_loop.py:310: The number of training batches (45) is smaller than the logging interval Trainer(log_every_n_steps=50). Set a lower value for log_every_n_steps if you want to see logs for the training epoch.\n"
     ]
    },
    {
     "name": "stdout",
     "output_type": "stream",
     "text": [
      "Epoch 79: 100%|██████████| 45/45 [00:00<00:00, 110.62it/s, v_num=13, train_loss_step=0.355, val_loss=0.376, val_acc=0.904, val_fnr=0.261, train_loss_epoch=0.353]"
     ]
    },
    {
     "name": "stderr",
     "output_type": "stream",
     "text": [
      "`Trainer.fit` stopped: `max_epochs=80` reached.\n"
     ]
    },
    {
     "name": "stdout",
     "output_type": "stream",
     "text": [
      "Epoch 79: 100%|██████████| 45/45 [00:00<00:00, 107.27it/s, v_num=13, train_loss_step=0.355, val_loss=0.376, val_acc=0.904, val_fnr=0.261, train_loss_epoch=0.353]\n"
     ]
    }
   ],
   "source": [
    "from lightning.pytorch.loggers import TensorBoardLogger\n",
    "\n",
    "model = CreditRiskModel(X_train_tensor.shape[1], 64, 0.4)\n",
    "\n",
    "logger = TensorBoardLogger(save_dir=\"../models/model/lightning_logs\", name=\"credit_risk_model\")\n",
    "\n",
    "trainer = pl.Trainer(\n",
    "    max_epochs=80,\n",
    "    accelerator='auto',\n",
    "    default_root_dir=\"../models/model/\",\n",
    "    logger=logger\n",
    ")\n",
    "trainer.fit(model, train_loader, val_dataloaders=val_loader)"
   ]
  },
  {
   "cell_type": "code",
   "execution_count": null,
   "metadata": {},
   "outputs": [],
   "source": []
  },
  {
   "cell_type": "markdown",
   "metadata": {},
   "source": [
    "### Example inference"
   ]
  },
  {
   "cell_type": "code",
   "execution_count": 14,
   "metadata": {},
   "outputs": [],
   "source": [
    "# model.eval()\n",
    "# with torch.no_grad():\n",
    "#     # Example inference on val set\n",
    "#     sample_features = torch.tensor(X_val[:5], dtype=torch.float)\n",
    "#     logits = model(sample_features)\n",
    "#     probs = torch.sigmoid(logits)\n",
    "#     preds = (probs > 0.5).float()\n",
    "#     print(\"Probabilities:\", probs)\n",
    "#     print(\"Predictions:\", preds)\n"
   ]
  }
 ],
 "metadata": {
  "kernelspec": {
   "display_name": ".venv",
   "language": "python",
   "name": "python3"
  },
  "language_info": {
   "codemirror_mode": {
    "name": "ipython",
    "version": 3
   },
   "file_extension": ".py",
   "mimetype": "text/x-python",
   "name": "python",
   "nbconvert_exporter": "python",
   "pygments_lexer": "ipython3",
   "version": "3.10.0"
  }
 },
 "nbformat": 4,
 "nbformat_minor": 2
}
